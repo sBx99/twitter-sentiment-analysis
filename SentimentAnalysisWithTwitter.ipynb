{
  "nbformat": 4,
  "nbformat_minor": 0,
  "metadata": {
    "colab": {
      "name": "SentimentAnalysisWithTwitter.ipynb",
      "provenance": [],
      "collapsed_sections": [],
      "authorship_tag": "ABX9TyMnl098gud4Y7IyogNAhwls",
      "include_colab_link": true
    },
    "kernelspec": {
      "name": "python3",
      "display_name": "Python 3"
    }
  },
  "cells": [
    {
      "cell_type": "markdown",
      "metadata": {
        "id": "view-in-github",
        "colab_type": "text"
      },
      "source": [
        "<a href=\"https://colab.research.google.com/github/sBx99/twitter-sentiment-analysis/blob/master/SentimentAnalysisWithTwitter.ipynb\" target=\"_parent\"><img src=\"https://colab.research.google.com/assets/colab-badge.svg\" alt=\"Open In Colab\"/></a>"
      ]
    },
    {
      "cell_type": "markdown",
      "metadata": {
        "id": "Lg3d-EKTfOfa",
        "colab_type": "text"
      },
      "source": [
        "# Sentiment Analysis of Real-Time Tweets\n",
        "**Try it out for yourself here!**"
      ]
    },
    {
      "cell_type": "code",
      "metadata": {
        "id": "0itg0Hcefc7N",
        "colab_type": "code",
        "colab": {
          "base_uri": "https://localhost:8080/",
          "height": 1000
        },
        "outputId": "376337c8-9c30-400a-efdf-f9d045a19f39"
      },
      "source": [
        "# installing all dependencies\n",
        "\n",
        "! pip3 install tweepy\n",
        "! pip3 install textblob\n",
        "! pip3 install matplotlib\n",
        "! pip3 install python-csv"
      ],
      "execution_count": 1,
      "outputs": [
        {
          "output_type": "stream",
          "text": [
            "Requirement already satisfied: tweepy in /usr/local/lib/python3.6/dist-packages (3.6.0)\n",
            "Requirement already satisfied: requests>=2.11.1 in /usr/local/lib/python3.6/dist-packages (from tweepy) (2.23.0)\n",
            "Requirement already satisfied: six>=1.10.0 in /usr/local/lib/python3.6/dist-packages (from tweepy) (1.12.0)\n",
            "Requirement already satisfied: requests-oauthlib>=0.7.0 in /usr/local/lib/python3.6/dist-packages (from tweepy) (1.3.0)\n",
            "Requirement already satisfied: PySocks>=1.5.7 in /usr/local/lib/python3.6/dist-packages (from tweepy) (1.7.1)\n",
            "Requirement already satisfied: certifi>=2017.4.17 in /usr/local/lib/python3.6/dist-packages (from requests>=2.11.1->tweepy) (2020.4.5.1)\n",
            "Requirement already satisfied: urllib3!=1.25.0,!=1.25.1,<1.26,>=1.21.1 in /usr/local/lib/python3.6/dist-packages (from requests>=2.11.1->tweepy) (1.24.3)\n",
            "Requirement already satisfied: chardet<4,>=3.0.2 in /usr/local/lib/python3.6/dist-packages (from requests>=2.11.1->tweepy) (3.0.4)\n",
            "Requirement already satisfied: idna<3,>=2.5 in /usr/local/lib/python3.6/dist-packages (from requests>=2.11.1->tweepy) (2.9)\n",
            "Requirement already satisfied: oauthlib>=3.0.0 in /usr/local/lib/python3.6/dist-packages (from requests-oauthlib>=0.7.0->tweepy) (3.1.0)\n",
            "Requirement already satisfied: textblob in /usr/local/lib/python3.6/dist-packages (0.15.3)\n",
            "Requirement already satisfied: nltk>=3.1 in /usr/local/lib/python3.6/dist-packages (from textblob) (3.2.5)\n",
            "Requirement already satisfied: six in /usr/local/lib/python3.6/dist-packages (from nltk>=3.1->textblob) (1.12.0)\n",
            "Requirement already satisfied: matplotlib in /usr/local/lib/python3.6/dist-packages (3.2.1)\n",
            "Requirement already satisfied: kiwisolver>=1.0.1 in /usr/local/lib/python3.6/dist-packages (from matplotlib) (1.2.0)\n",
            "Requirement already satisfied: cycler>=0.10 in /usr/local/lib/python3.6/dist-packages (from matplotlib) (0.10.0)\n",
            "Requirement already satisfied: numpy>=1.11 in /usr/local/lib/python3.6/dist-packages (from matplotlib) (1.18.4)\n",
            "Requirement already satisfied: pyparsing!=2.0.4,!=2.1.2,!=2.1.6,>=2.0.1 in /usr/local/lib/python3.6/dist-packages (from matplotlib) (2.4.7)\n",
            "Requirement already satisfied: python-dateutil>=2.1 in /usr/local/lib/python3.6/dist-packages (from matplotlib) (2.8.1)\n",
            "Requirement already satisfied: six in /usr/local/lib/python3.6/dist-packages (from cycler>=0.10->matplotlib) (1.12.0)\n",
            "Collecting python-csv\n",
            "  Downloading https://files.pythonhosted.org/packages/a5/dc/7d044beccf6d10748ff5ad005441897e84265dea9aea9b39885758cc47fc/python-csv-0.0.11.tar.gz\n",
            "Collecting argparse\n",
            "  Downloading https://files.pythonhosted.org/packages/f2/94/3af39d34be01a24a6e65433d19e107099374224905f1e0cc6bbe1fd22a2f/argparse-1.4.0-py2.py3-none-any.whl\n",
            "Requirement already satisfied: numpy in /usr/local/lib/python3.6/dist-packages (from python-csv) (1.18.4)\n",
            "Requirement already satisfied: pandas in /usr/local/lib/python3.6/dist-packages (from python-csv) (1.0.3)\n",
            "Requirement already satisfied: matplotlib in /usr/local/lib/python3.6/dist-packages (from python-csv) (3.2.1)\n",
            "Requirement already satisfied: xlrd in /usr/local/lib/python3.6/dist-packages (from python-csv) (1.1.0)\n",
            "Collecting xmltodict\n",
            "  Downloading https://files.pythonhosted.org/packages/28/fd/30d5c1d3ac29ce229f6bdc40bbc20b28f716e8b363140c26eff19122d8a5/xmltodict-0.12.0-py2.py3-none-any.whl\n",
            "Collecting demjson\n",
            "\u001b[?25l  Downloading https://files.pythonhosted.org/packages/96/67/6db789e2533158963d4af689f961b644ddd9200615b8ce92d6cad695c65a/demjson-2.2.4.tar.gz (131kB)\n",
            "\u001b[K     |████████████████████████████████| 133kB 6.7MB/s \n",
            "\u001b[?25hCollecting leven\n",
            "  Downloading https://files.pythonhosted.org/packages/73/02/37084115516cfd595ee2f9a873fffe8b85c6b1538523ff6a8b8dd7ff7d46/leven-1.0.4.tar.gz\n",
            "Collecting jtutils\n",
            "  Downloading https://files.pythonhosted.org/packages/e7/66/e17c5c7cf390e4b45c2ffc2adb3ad6e575ab0ff0bc647061f43c6fb2001e/jtutils-0.0.6.tar.gz\n",
            "Requirement already satisfied: pytz>=2017.2 in /usr/local/lib/python3.6/dist-packages (from pandas->python-csv) (2018.9)\n",
            "Requirement already satisfied: python-dateutil>=2.6.1 in /usr/local/lib/python3.6/dist-packages (from pandas->python-csv) (2.8.1)\n",
            "Requirement already satisfied: pyparsing!=2.0.4,!=2.1.2,!=2.1.6,>=2.0.1 in /usr/local/lib/python3.6/dist-packages (from matplotlib->python-csv) (2.4.7)\n",
            "Requirement already satisfied: kiwisolver>=1.0.1 in /usr/local/lib/python3.6/dist-packages (from matplotlib->python-csv) (1.2.0)\n",
            "Requirement already satisfied: cycler>=0.10 in /usr/local/lib/python3.6/dist-packages (from matplotlib->python-csv) (0.10.0)\n",
            "Requirement already satisfied: six in /usr/local/lib/python3.6/dist-packages (from leven->python-csv) (1.12.0)\n",
            "Collecting nose\n",
            "\u001b[?25l  Downloading https://files.pythonhosted.org/packages/15/d8/dd071918c040f50fa1cf80da16423af51ff8ce4a0f2399b7bf8de45ac3d9/nose-1.3.7-py3-none-any.whl (154kB)\n",
            "\u001b[K     |████████████████████████████████| 163kB 30.5MB/s \n",
            "\u001b[?25hRequirement already satisfied: requests in /usr/local/lib/python3.6/dist-packages (from jtutils->python-csv) (2.23.0)\n",
            "Requirement already satisfied: beautifulsoup4 in /usr/local/lib/python3.6/dist-packages (from jtutils->python-csv) (4.6.3)\n",
            "Requirement already satisfied: idna<3,>=2.5 in /usr/local/lib/python3.6/dist-packages (from requests->jtutils->python-csv) (2.9)\n",
            "Requirement already satisfied: urllib3!=1.25.0,!=1.25.1,<1.26,>=1.21.1 in /usr/local/lib/python3.6/dist-packages (from requests->jtutils->python-csv) (1.24.3)\n",
            "Requirement already satisfied: certifi>=2017.4.17 in /usr/local/lib/python3.6/dist-packages (from requests->jtutils->python-csv) (2020.4.5.1)\n",
            "Requirement already satisfied: chardet<4,>=3.0.2 in /usr/local/lib/python3.6/dist-packages (from requests->jtutils->python-csv) (3.0.4)\n",
            "Building wheels for collected packages: python-csv, demjson, leven, jtutils\n",
            "  Building wheel for python-csv (setup.py) ... \u001b[?25l\u001b[?25hdone\n",
            "  Created wheel for python-csv: filename=python_csv-0.0.11-cp36-none-any.whl size=34974 sha256=f65f8658442eda5b7575925be2899bb307e9a30ebbd37dd39b8a5f54f14edc36\n",
            "  Stored in directory: /root/.cache/pip/wheels/eb/b1/ad/62414185ac29c10d529af3e285759d5d8c54e4d84d84eac337\n",
            "  Building wheel for demjson (setup.py) ... \u001b[?25l\u001b[?25hdone\n",
            "  Created wheel for demjson: filename=demjson-2.2.4-cp36-none-any.whl size=73547 sha256=5f76469deec3bd34b7aff03fa8615a5d9c8d350bc694a5d6a653c2cf92796fbb\n",
            "  Stored in directory: /root/.cache/pip/wheels/c5/d2/ab/a54fb5ea53ac3badba098160e8452fa126a51febda80440ded\n",
            "  Building wheel for leven (setup.py) ... \u001b[?25l\u001b[?25hdone\n",
            "  Created wheel for leven: filename=leven-1.0.4-cp36-cp36m-linux_x86_64.whl size=54673 sha256=6a6dbeeeea5d65e7ecfacd5df97f80fcbf4f9e5903e101089269b0744a3cc538\n",
            "  Stored in directory: /root/.cache/pip/wheels/54/64/a5/439db671d666a50f3b3cebd2dcab3fbbab02785adf58e47552\n",
            "  Building wheel for jtutils (setup.py) ... \u001b[?25l\u001b[?25hdone\n",
            "  Created wheel for jtutils: filename=jtutils-0.0.6-cp36-none-any.whl size=7486 sha256=a340f3e91eb91da6d697899dca84a7968e4e72daa3a7e4b82dc664eb7ab3bc1b\n",
            "  Stored in directory: /root/.cache/pip/wheels/ce/7d/63/cac19c4c7c0d765c7916d80e277e6bcf0cae070758fc5b6496\n",
            "Successfully built python-csv demjson leven jtutils\n",
            "Installing collected packages: argparse, xmltodict, demjson, nose, leven, jtutils, python-csv\n",
            "Successfully installed argparse-1.4.0 demjson-2.2.4 jtutils-0.0.6 leven-1.0.4 nose-1.3.7 python-csv-0.0.11 xmltodict-0.12.0\n"
          ],
          "name": "stdout"
        },
        {
          "output_type": "display_data",
          "data": {
            "application/vnd.colab-display-data+json": {
              "pip_warning": {
                "packages": [
                  "argparse"
                ]
              }
            }
          },
          "metadata": {
            "tags": []
          }
        }
      ]
    },
    {
      "cell_type": "code",
      "metadata": {
        "id": "Muzq-PtYewga",
        "colab_type": "code",
        "colab": {}
      },
      "source": [
        "import sys, tweepy, csv, re\n",
        "from textblob import TextBlob\n",
        "import matplotlib.pyplot as plt\n",
        "%matplotlib inline"
      ],
      "execution_count": 0,
      "outputs": []
    },
    {
      "cell_type": "code",
      "metadata": {
        "id": "C57D4RHQeyQH",
        "colab_type": "code",
        "colab": {}
      },
      "source": [
        "class SentimentAnalysis:\n",
        "\n",
        "    def __init__(self):\n",
        "        self.tweets = []\n",
        "        self.tweetText = []\n",
        "\n",
        "    def DownloadData(self):\n",
        "        \n",
        "        # add your twitter keys here\n",
        "        consumerKey = ''\n",
        "        consumerSecret = ''\n",
        "        accessToken = ''\n",
        "        accessTokenSecret = ''\n",
        "        \n",
        "        auth = tweepy.OAuthHandler(consumerKey, consumerSecret)\n",
        "        auth.set_access_token(accessToken, accessTokenSecret)\n",
        "        api = tweepy.API(auth)\n",
        "\n",
        "\n",
        "        searchTerm = input(\"Enter Keyword/Tag to search about: \")\n",
        "        NoOfTerms = int(input(\"Enter how many tweets to search: \"))\n",
        "\n",
        "\n",
        "        self.tweets = tweepy.Cursor(api.search, q=searchTerm, lang = \"en\").items(NoOfTerms)\n",
        "\n",
        "\n",
        "        csvFile = open('result.csv', 'a')\n",
        "        csvWriter = csv.writer(csvFile)\n",
        "        \n",
        "\n",
        "        polarity, snegative, negative, wnegative, neutral, wpositive, positive, spositive = (0,)*8\n",
        "\n",
        "\n",
        "        for tweet in self.tweets:\n",
        "\n",
        "            self.tweetText.append(self.cleanTweet(tweet.text).encode('utf-8'))\n",
        "\n",
        "            analysis = TextBlob(tweet.text)\n",
        "\n",
        "            polarity += analysis.sentiment.polarity\n",
        "\n",
        "            if (analysis.sentiment.polarity == 0):\n",
        "                neutral += 1\n",
        "            elif (analysis.sentiment.polarity > 0 and analysis.sentiment.polarity <= 0.3):\n",
        "                wpositive += 1\n",
        "            elif (analysis.sentiment.polarity > 0.3 and analysis.sentiment.polarity <= 0.6):\n",
        "                positive += 1\n",
        "            elif (analysis.sentiment.polarity > 0.6 and analysis.sentiment.polarity <= 1):\n",
        "                spositive += 1\n",
        "            elif (analysis.sentiment.polarity > -0.3 and analysis.sentiment.polarity <= 0):\n",
        "                wnegative += 1\n",
        "            elif (analysis.sentiment.polarity > -0.6 and analysis.sentiment.polarity <= -0.3):\n",
        "                negative += 1\n",
        "            elif (analysis.sentiment.polarity > -1 and analysis.sentiment.polarity <= -0.6):\n",
        "                snegative += 1\n",
        "            else:\n",
        "                neutral = 0\n",
        "\n",
        "\n",
        "\n",
        "        csvWriter.writerow(self.tweetText)\n",
        "        csvFile.close()\n",
        "\n",
        "\n",
        "        positive = self.percentage(positive, NoOfTerms)\n",
        "        wpositive = self.percentage(wpositive, NoOfTerms)\n",
        "        spositive = self.percentage(spositive, NoOfTerms)\n",
        "        negative = self.percentage(negative, NoOfTerms)\n",
        "        wnegative = self.percentage(wnegative, NoOfTerms)\n",
        "        snegative = self.percentage(snegative, NoOfTerms)\n",
        "        neutral = self.percentage(neutral, NoOfTerms)\n",
        "\n",
        "\n",
        "        polarity = polarity / NoOfTerms\n",
        "        \n",
        "        # df = pd.read_csv('result.csv')\n",
        "        # print(\"here are 10 tweets this program just collected: \")\n",
        "        # df.head(10)\n",
        "\n",
        "\n",
        "        print(\"How people are reacting on \" + searchTerm + \" by analyzing \" + str(NoOfTerms) + \" tweets.\")\n",
        "        print()\n",
        "        print(\"General Report: \")\n",
        "\n",
        "        if (polarity==0):\n",
        "            print(\"Neutral\")\n",
        "        elif (polarity > 0 and polarity <= 0.3):\n",
        "            print(\"Weak Positive\")\n",
        "        elif (polarity > 0.3 and polarity <= 0.6):\n",
        "            print(\"Positive\")\n",
        "        elif (polarity > 0.6 and polarity <= 1):\n",
        "            print(\"Strong Positive\")\n",
        "        elif (polarity > -0.3 and polarity <= 0):\n",
        "            print(\"Weak Negative\")\n",
        "        elif (polarity > -0.6 and polarity <= -0.3):\n",
        "            print(\"Negative\")\n",
        "        elif (polarity > -1 and polarity <= -0.6):\n",
        "            print(\"Strong Negative\")\n",
        "\n",
        "        print('\\ndetailed report: ')\n",
        "        print(str(snegative), \"% had a strong negative opinion about \", searchTerm)\n",
        "        print(str(negative), \"% had a negative opinion about \", searchTerm)\n",
        "        print(str(wnegative), \"% had a weak negative opinion about \", searchTerm)\n",
        "        print(str(neutral), \"% had a neutral opinion about \", searchTerm)\n",
        "        print(str(wpositive), \"% had a weak positive opinion about \", searchTerm)\n",
        "        print(str(positive), \"% had a positive opinion about \", searchTerm)\n",
        "        print(str(spositive), \"% had a strong positive opinion about \", searchTerm)\n",
        "\n",
        "        self.plotPieChart(snegative, negative, wnegative, neutral, wpositive, positive, spositive, searchTerm, NoOfTerms)\n",
        "\n",
        "\n",
        "    def cleanTweet(self, tweet):\n",
        "\n",
        "        return ' '.join(re.sub(\"(@[A-Za-z0-9]+)|([^0-9A-Za-z \\t]) | (\\w +:\\ / \\ / \\S +)\", \" \", tweet).split())\n",
        "\n",
        "\n",
        "    def percentage(self, part, whole):\n",
        "        temp = 100 * float(part) / float(whole)\n",
        "        return format(temp, '.2f')\n",
        "\n",
        "    def plotPieChart(self, snegative, negative, wnegative, neutral, wpositive, positive, spositive, searchTerm, NoOfTerms):\n",
        "            labels = ['strong negative [' + str(snegative) + '%]',\n",
        "                     'negative [' + str(negative) + '%]',\n",
        "                     'weak negative [' + str(wnegative) + '%]',\n",
        "                     'neutral [' + str(neutral) + '%]',\n",
        "                     'weak positive [' + str(wpositive) + '%]',\n",
        "                     'positive [' + str(positive) + '%]',\n",
        "                     'strong positive [' + str(spositive) + '%]'\n",
        "                     ]\n",
        "            sizes = [snegative, negative, wnegative, neutral, wpositive, positive, spositive]\n",
        "            colors = ['red', 'darkorange', 'yellow', 'limegreen', 'aquamarine', 'mediumblue', 'darkviolet']\n",
        "            patches, texts = plt.pie(sizes, colors=colors, startangle=90)\n",
        "            plt.legend(patches, labels, loc='upper right')\n",
        "            plt.title('reactions in a rainbow pie chart 🌈')\n",
        "            plt.axis('equal')\n",
        "            plt.tight_layout\n",
        "            plt.show()"
      ],
      "execution_count": 0,
      "outputs": []
    },
    {
      "cell_type": "code",
      "metadata": {
        "id": "WZcos5q2fFMe",
        "colab_type": "code",
        "colab": {}
      },
      "source": [
        "if __name__== \"__main__\":\n",
        "    sentimentAnalysis = SentimentAnalysis()\n",
        "    sentimentAnalysis.DownloadData()"
      ],
      "execution_count": 0,
      "outputs": []
    }
  ]
}